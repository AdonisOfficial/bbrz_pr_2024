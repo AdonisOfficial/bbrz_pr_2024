{
 "cells": [
  {
   "cell_type": "markdown",
   "metadata": {},
   "source": [
    "# 00_Wiederholung\n",
    "\n",
    "* Aufzählung 1\n",
    "* Aufzählung 2\n",
    "\n",
    "```java\n",
    "System.out.println(\"Hello World\")\n",
    "```\n",
    "\n"
   ]
  },
  {
   "cell_type": "code",
   "execution_count": 1,
   "metadata": {
    "dotnet_interactive": {
     "language": "csharp"
    },
    "polyglot_notebook": {
     "kernelName": "csharp"
    }
   },
   "outputs": [
    {
     "name": "stdout",
     "output_type": "stream",
     "text": [
      "Hello World\r\n"
     ]
    }
   ],
   "source": [
    "Console.WriteLine(\"Hello World\")\n"
   ]
  },
  {
   "cell_type": "markdown",
   "metadata": {},
   "source": [
    "## Strings\n",
    "\n",
    "\n"
   ]
  },
  {
   "cell_type": "code",
   "execution_count": 15,
   "metadata": {
    "dotnet_interactive": {
     "language": "csharp"
    },
    "polyglot_notebook": {
     "kernelName": "csharp"
    }
   },
   "outputs": [
    {
     "name": "stdout",
     "output_type": "stream",
     "text": [
      "Hello\n",
      "Hello World\n",
      "Hello World\n",
      "Hello World\n",
      "Die Zahl d ist $123,46 ¤\n",
      "Die Zahl d ist $123,46\n",
      "Die Zahl 11 ist in Hex : B\n",
      "Die Zahl 11 ist in Hex : B\n",
      " :\n",
      "2 \t3\n",
      "C:\\r\\n2\\t3\n",
      "C:\\r\\n2\\t3\n"
     ]
    }
   ],
   "source": [
    "string s1 = \"Hello\";\n",
    "String s2 = \"World\";\n",
    "\n",
    "Console.WriteLine(s1); \n",
    "Console.WriteLine($\"{s1} {s2}\");\n",
    "Console.WriteLine(s1 + \" \" + s2);   \n",
    "Console.WriteLine(\"{0} {1}\", s1, s2);\n",
    "\n",
    "double d = 123.456789;\n",
    "Console.WriteLine(\"Die Zahl d ist ${0:C}\", d);\n",
    "Console.WriteLine(\"Die Zahl d ist ${0:f2}\", d);\n",
    "\n",
    "int z = 11;\n",
    "Console.WriteLine(\"Die Zahl {0} ist in Hex : {0:X}\", z, z);\n",
    "String formatieren = String.Format(\"Die Zahl {0} ist in Hex : {0:X}\", z, z);\n",
    "Console.WriteLine(formatieren);\n",
    "\n",
    "String f2 = $\"f2: {z}\";\n",
    "\n",
    "String path1 = \"C:\\r \\n2 \\t3\";\n",
    "String path2 = \"C:\\\\r\\\\n2\\\\t3\";\n",
    "String path3 = @\"C:\\r\\n2\\t3\";\n",
    "Console.WriteLine(path1);\n",
    "Console.WriteLine(path2);\n",
    "Console.WriteLine(path3);"
   ]
  },
  {
   "cell_type": "markdown",
   "metadata": {},
   "source": [
    " ## Stack \n",
    "\n",
    " * Werttypen zb: int, double, etc..\n",
    " * Last in first out \n",
    "\n",
    "\n",
    " ## Heap \n",
    "\n",
    " * Referenztypen zb: string etc.\n",
    "\n",
    " ## Struct\n",
    "\n",
    " * Sammlung aus Primitiven Datentypen die primitiv sind \n",
    " * exestieren am Stack \n",
    " "
   ]
  },
  {
   "cell_type": "code",
   "execution_count": 24,
   "metadata": {
    "dotnet_interactive": {
     "language": "csharp"
    },
    "polyglot_notebook": {
     "kernelName": "csharp"
    }
   },
   "outputs": [
    {
     "name": "stdout",
     "output_type": "stream",
     "text": [
      "x: 2 y: 3\r\n"
     ]
    }
   ],
   "source": [
    "public struct Point {\n",
    "    public int x;\n",
    "    public int y;\n",
    "\n",
    "    public override String ToString(){\n",
    "        return $\"x: {x} y: {y}\";\n",
    "    }\n",
    "}\n",
    "\n",
    "Point p1 = new Point() {x= 1, y= 2};\n",
    "\n",
    "p1.test = \"abc\";\n",
    "p1.x++;\n",
    "p1.y++;\n",
    "\n",
    "Console.WriteLine($\"x: {p1.x} y: {p1.y}\");\n",
    "\n"
   ]
  },
  {
   "cell_type": "markdown",
   "metadata": {},
   "source": []
  }
 ],
 "metadata": {
  "kernelspec": {
   "display_name": ".NET (C#)",
   "language": "C#",
   "name": ".net-csharp"
  },
  "language_info": {
   "name": "polyglot-notebook"
  },
  "polyglot_notebook": {
   "kernelInfo": {
    "defaultKernelName": "csharp",
    "items": [
     {
      "aliases": [],
      "languageName": "csharp",
      "name": "csharp"
     }
    ]
   }
  }
 },
 "nbformat": 4,
 "nbformat_minor": 2
}
